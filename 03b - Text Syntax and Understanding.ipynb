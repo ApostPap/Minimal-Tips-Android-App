{
 "cells": [
  {
   "cell_type": "code",
   "execution_count": 3,
   "metadata": {},
   "outputs": [],
   "source": [
    "import warnings\n",
    "warnings.simplefilter(\"ignore\", category=DeprecationWarning)\n",
    "warnings.filterwarnings('ignore')"
   ]
  },
  {
   "cell_type": "markdown",
   "metadata": {},
   "source": [
    "# Parts of Speech (POS) Tagging"
   ]
  },
  {
   "cell_type": "code",
   "execution_count": 2,
   "metadata": {},
   "outputs": [
    {
     "data": {
      "text/html": [
       "<div>\n",
       "<style scoped>\n",
       "    .dataframe tbody tr th:only-of-type {\n",
       "        vertical-align: middle;\n",
       "    }\n",
       "\n",
       "    .dataframe tbody tr th {\n",
       "        vertical-align: top;\n",
       "    }\n",
       "\n",
       "    .dataframe thead th {\n",
       "        text-align: right;\n",
       "    }\n",
       "</style>\n",
       "<table border=\"1\" class=\"dataframe\">\n",
       "  <thead>\n",
       "    <tr style=\"text-align: right;\">\n",
       "      <th></th>\n",
       "      <th>0</th>\n",
       "      <th>1</th>\n",
       "      <th>2</th>\n",
       "      <th>3</th>\n",
       "      <th>4</th>\n",
       "      <th>5</th>\n",
       "      <th>6</th>\n",
       "      <th>7</th>\n",
       "      <th>8</th>\n",
       "      <th>9</th>\n",
       "      <th>10</th>\n",
       "      <th>11</th>\n",
       "      <th>12</th>\n",
       "    </tr>\n",
       "  </thead>\n",
       "  <tbody>\n",
       "    <tr>\n",
       "      <th>Word</th>\n",
       "      <td>Η</td>\n",
       "      <td>Ελλάδα</td>\n",
       "      <td>είχε</td>\n",
       "      <td>33</td>\n",
       "      <td>εκατομμύρια</td>\n",
       "      <td>τουρίστες</td>\n",
       "      <td>,</td>\n",
       "      <td>και</td>\n",
       "      <td>έτσι</td>\n",
       "      <td>ξεπέρασε</td>\n",
       "      <td>την</td>\n",
       "      <td>Ισπανία</td>\n",
       "      <td>.</td>\n",
       "    </tr>\n",
       "    <tr>\n",
       "      <th>POS tag</th>\n",
       "      <td>DET</td>\n",
       "      <td>PROPN</td>\n",
       "      <td>VERB</td>\n",
       "      <td>NUM</td>\n",
       "      <td>NOUN</td>\n",
       "      <td>NOUN</td>\n",
       "      <td>PUNCT</td>\n",
       "      <td>CCONJ</td>\n",
       "      <td>ADV</td>\n",
       "      <td>VERB</td>\n",
       "      <td>DET</td>\n",
       "      <td>PROPN</td>\n",
       "      <td>PUNCT</td>\n",
       "    </tr>\n",
       "    <tr>\n",
       "      <th>Tag type</th>\n",
       "      <td>DET</td>\n",
       "      <td>PROPN</td>\n",
       "      <td>VERB</td>\n",
       "      <td>NUM</td>\n",
       "      <td>NOUN</td>\n",
       "      <td>NOUN</td>\n",
       "      <td>PUNCT</td>\n",
       "      <td>CCONJ</td>\n",
       "      <td>ADV</td>\n",
       "      <td>VERB</td>\n",
       "      <td>DET</td>\n",
       "      <td>PROPN</td>\n",
       "      <td>PUNCT</td>\n",
       "    </tr>\n",
       "  </tbody>\n",
       "</table>\n",
       "</div>"
      ],
      "text/plain": [
       "            0       1     2    3            4          5      6      7     8  \\\n",
       "Word        Η  Ελλάδα  είχε   33  εκατομμύρια  τουρίστες      ,    και  έτσι   \n",
       "POS tag   DET   PROPN  VERB  NUM         NOUN       NOUN  PUNCT  CCONJ   ADV   \n",
       "Tag type  DET   PROPN  VERB  NUM         NOUN       NOUN  PUNCT  CCONJ   ADV   \n",
       "\n",
       "                 9   10       11     12  \n",
       "Word      ξεπέρασε  την  Ισπανία      .  \n",
       "POS tag       VERB  DET    PROPN  PUNCT  \n",
       "Tag type      VERB  DET    PROPN  PUNCT  "
      ]
     },
     "execution_count": 2,
     "metadata": {},
     "output_type": "execute_result"
    }
   ],
   "source": [
    "# how POS tagging can be implemented using spaCy for Greek Language.\n",
    "sentence = \"Η Ελλάδα είχε 33 εκατομμύρια τουρίστες, και έτσι ξεπέρασε την Ισπανία.\"\n",
    "\n",
    "import pandas as pd\n",
    "import spacy\n",
    "import el_core_news_md\n",
    "nlp = el_core_news_md.load()\n",
    "\n",
    "sentence_nlp = nlp(sentence)\n",
    "# POS tagging with Spacy \n",
    "spacy_pos_tagged = [(word, word.tag_, word.pos_) for word in sentence_nlp]\n",
    "pd.DataFrame(spacy_pos_tagged, columns=['Word', 'POS tag', 'Tag type']).T"
   ]
  },
  {
   "cell_type": "code",
   "execution_count": 8,
   "metadata": {},
   "outputs": [
    {
     "name": "stdout",
     "output_type": "stream",
     "text": [
      "Token:η, DEP tag: det, POS tag: DET\n",
      "Token:δημοκρατία, DEP tag: nsubj, POS tag: NOUN\n",
      "Token:είναι, DEP tag: cop, POS tag: AUX\n",
      "Token:το, DEP tag: det, POS tag: DET\n",
      "Token:πιο, DEP tag: advmod, POS tag: ADV\n",
      "Token:ανθρώπινο, DEP tag: amod, POS tag: ADJ\n",
      "Token:πολίτευμα, DEP tag: ROOT, POS tag: NOUN\n",
      "Token:., DEP tag: punct, POS tag: PUNCT\n",
      "          πολίτευμα                     \n",
      "   ___________|____________________      \n",
      "  |    |      |     δημοκρατία ανθρώπινο\n",
      "  |    |      |         |          |     \n",
      "είναι  το     .         η         πιο   \n",
      "\n"
     ]
    },
    {
     "data": {
      "text/plain": [
       "[None]"
      ]
     },
     "execution_count": 8,
     "metadata": {},
     "output_type": "execute_result"
    }
   ],
   "source": [
    "# DEP & POS Tagger\n",
    "import spacy\n",
    "from nltk import Tree\n",
    "# nlp = spacy.load('el')\n",
    "doc = nlp(\"η δημοκρατία είναι το πιο ανθρώπινο πολίτευμα.\")\n",
    "\n",
    "\n",
    "for token in doc:\n",
    "    print('Token:{}, DEP tag: {}, POS tag: {}'.format(token, token.dep_, token.pos_))\n",
    "def to_nltk_tree(node):\n",
    "    if node.n_lefts + node.n_rights > 0:\n",
    "      return Tree(node.orth_, [to_nltk_tree(child) for child in node.children])\n",
    "    else:\n",
    "      return node.orth_\n",
    "[to_nltk_tree(sent.root).pretty_print() for sent in doc.sents]"
   ]
  },
  {
   "cell_type": "code",
   "execution_count": 4,
   "metadata": {},
   "outputs": [
    {
     "name": "stdout",
     "output_type": "stream",
     "text": [
      "Entity:Google, Label:ORG\n",
      "Entity:Καλιφόρνια, Label:GPE\n"
     ]
    }
   ],
   "source": [
    "# NER Tagger\n",
    "# import spacy\n",
    "# nlp  = spacy.load('el')\n",
    "text = '''Η εταιρεία Google έχει τα γραφεία της στην Καλιφόρνια.'''\n",
    "doc = nlp(text)\n",
    "for ent in doc.ents:\n",
    "  print(\"Entity:{}, Label:{}\".format(ent.text, ent.label_))"
   ]
  }
 ],
 "metadata": {
  "anaconda-cloud": {},
  "kernelspec": {
   "display_name": "Python 3",
   "language": "python",
   "name": "python3"
  },
  "language_info": {
   "codemirror_mode": {
    "name": "ipython",
    "version": 3
   },
   "file_extension": ".py",
   "mimetype": "text/x-python",
   "name": "python",
   "nbconvert_exporter": "python",
   "pygments_lexer": "ipython3",
   "version": "3.8.3"
  }
 },
 "nbformat": 4,
 "nbformat_minor": 2
}
