{
 "cells": [
  {
   "cell_type": "code",
   "execution_count": 1,
   "metadata": {},
   "outputs": [],
   "source": [
    "from nltk.corpus import wordnet as wn\n",
    "import pandas as pd"
   ]
  },
  {
   "cell_type": "code",
   "execution_count": 81,
   "metadata": {},
   "outputs": [
    {
     "data": {
      "text/plain": [
       "['als',\n",
       " 'arb',\n",
       " 'bul',\n",
       " 'cat',\n",
       " 'cmn',\n",
       " 'dan',\n",
       " 'ell',\n",
       " 'eng',\n",
       " 'eus',\n",
       " 'fas',\n",
       " 'fin',\n",
       " 'fra',\n",
       " 'glg',\n",
       " 'heb',\n",
       " 'hrv',\n",
       " 'ind',\n",
       " 'ita',\n",
       " 'jpn',\n",
       " 'nld',\n",
       " 'nno',\n",
       " 'nob',\n",
       " 'pol',\n",
       " 'por',\n",
       " 'qcn',\n",
       " 'slv',\n",
       " 'spa',\n",
       " 'swe',\n",
       " 'tha',\n",
       " 'zsm']"
      ]
     },
     "execution_count": 81,
     "metadata": {},
     "output_type": "execute_result"
    }
   ],
   "source": [
    "sorted(wn.langs())\n",
    "# https://bit.ly/31xaXih"
   ]
  },
  {
   "cell_type": "markdown",
   "metadata": {},
   "source": [
    "# WordNet Synsets\n",
    "Synsets are defined as a collection of data entities that are considered semantically similar.\n",
    "WordNet, synsets are defined as a set or collection of synonyms that are\n",
    "interchangeable and revolve around a specific concept.\n",
    "Synsets are connected to other synsets using semantic relations."
   ]
  },
  {
   "cell_type": "code",
   "execution_count": 14,
   "metadata": {},
   "outputs": [
    {
     "name": "stdout",
     "output_type": "stream",
     "text": [
      "Total Synsets: 1\n"
     ]
    },
    {
     "data": {
      "text/plain": [
       "[Synset('greece.n.01')]"
      ]
     },
     "execution_count": 14,
     "metadata": {},
     "output_type": "execute_result"
    }
   ],
   "source": [
    "term = 'πορτοκάλι'\n",
    "synsets = wn.synsets(term, lang='ell')\n",
    "print('Total Synsets:', len(synsets))\n",
    "synsets\n",
    "wn.synsets('Ελλάδα', lang='ell')"
   ]
  },
  {
   "cell_type": "code",
   "execution_count": 15,
   "metadata": {},
   "outputs": [
    {
     "data": {
      "text/html": [
       "<div>\n",
       "<style scoped>\n",
       "    .dataframe tbody tr th:only-of-type {\n",
       "        vertical-align: middle;\n",
       "    }\n",
       "\n",
       "    .dataframe tbody tr th {\n",
       "        vertical-align: top;\n",
       "    }\n",
       "\n",
       "    .dataframe thead th {\n",
       "        text-align: right;\n",
       "    }\n",
       "</style>\n",
       "<table border=\"1\" class=\"dataframe\">\n",
       "  <thead>\n",
       "    <tr style=\"text-align: right;\">\n",
       "      <th></th>\n",
       "      <th>Synset</th>\n",
       "      <th>Part of Speech</th>\n",
       "      <th>Definition</th>\n",
       "      <th>Lemmas</th>\n",
       "      <th>Examples</th>\n",
       "    </tr>\n",
       "  </thead>\n",
       "  <tbody>\n",
       "    <tr>\n",
       "      <th>0</th>\n",
       "      <td>Synset('orange.n.01')</td>\n",
       "      <td>noun.food</td>\n",
       "      <td>round yellow to orange fruit of any of several citrus trees</td>\n",
       "      <td>[orange]</td>\n",
       "      <td>[]</td>\n",
       "    </tr>\n",
       "  </tbody>\n",
       "</table>\n",
       "</div>"
      ],
      "text/plain": [
       "                  Synset Part of Speech  \\\n",
       "0  Synset('orange.n.01')      noun.food   \n",
       "\n",
       "                                                    Definition    Lemmas  \\\n",
       "0  round yellow to orange fruit of any of several citrus trees  [orange]   \n",
       "\n",
       "  Examples  \n",
       "0       []  "
      ]
     },
     "execution_count": 15,
     "metadata": {},
     "output_type": "execute_result"
    }
   ],
   "source": [
    "# Exploring WordNet synsets\n",
    "pd.options.display.max_colwidth = 200\n",
    "fruit_df = pd.DataFrame([{'Synset': synset,\n",
    "                         'Part of Speech': synset.lexname(),\n",
    "                         'Definition': synset.definition(),\n",
    "                         'Lemmas': synset.lemma_names(),\n",
    "                         'Examples': synset.examples()}\n",
    "                             for synset in synsets])\n",
    "fruit_df = fruit_df[['Synset', 'Part of Speech', 'Definition', 'Lemmas', 'Examples']]\n",
    "fruit_df"
   ]
  },
  {
   "cell_type": "markdown",
   "metadata": {},
   "source": [
    "# Entailments\n",
    "usually refer to some event or action that logically involves or is associated with some other action or event that has taken place or will take place."
   ]
  },
  {
   "cell_type": "code",
   "execution_count": 41,
   "metadata": {},
   "outputs": [
    {
     "name": "stdout",
     "output_type": "stream",
     "text": [
      "Synset('walk.v.10') -- entails --> []\n",
      "Synset('eat.v.02') -- entails --> []\n",
      "Synset('consume.v.02') -- entails --> []\n",
      "Synset('play.v.01') -- entails --> []\n",
      "Synset('rush.v.04') -- entails --> []\n"
     ]
    }
   ],
   "source": [
    "for action in ['περπατώ', 'τρώω', 'καταναλώνω', 'παίζω', 'τρέχω']:\n",
    "    action_syn = wn.synsets(action, pos='v', lang='ell')[0]\n",
    "    print(action_syn, '-- entails -->', action_syn.entailments())"
   ]
  },
  {
   "cell_type": "markdown",
   "metadata": {},
   "source": [
    "# Homonyms \\ Homographs\n",
    "Homonyms refer to words having the same written form or pronunciation but with different meanings. They are a superset of homographs, which are words with the same spelling but with different pronunciation or meanings."
   ]
  },
  {
   "cell_type": "code",
   "execution_count": 35,
   "metadata": {},
   "outputs": [
    {
     "name": "stdout",
     "output_type": "stream",
     "text": [
      "send.v.02 - to cause or order to be taken, directed, or transmitted to another place\n",
      "home.n.01 - where you live at a particular time\n",
      "houseful.n.01 - as many as a house will accommodate\n"
     ]
    }
   ],
   "source": [
    "for synset in wn.synsets('στέλνω', lang='ell'):\n",
    "    print(synset.name(),'-',synset.definition())\n",
    "\n",
    "for synset in wn.synsets('σπίτι', lang='ell'):\n",
    "    print(synset.name(),'-',synset.definition())"
   ]
  },
  {
   "cell_type": "markdown",
   "metadata": {},
   "source": [
    "# Synonyms & Antonyms"
   ]
  },
  {
   "cell_type": "code",
   "execution_count": 44,
   "metadata": {},
   "outputs": [
    {
     "name": "stdout",
     "output_type": "stream",
     "text": [
      "Synonym: important.a.01\n",
      "Definition: of great significance or value\n",
      "Antonym: unimportant.a.01\n",
      "Definition: not important\n",
      "\n"
     ]
    }
   ],
   "source": [
    "term = 'μεγάλος'\n",
    "synsets = wn.synsets(term, lang='ell')\n",
    "adj_large = synsets[1]\n",
    "adj_large = adj_large.lemmas()[0]\n",
    "adj_large_synonym = adj_large.synset()\n",
    "adj_large_antonym = adj_large.antonyms()[0].synset()\n",
    "\n",
    "print('Synonym:', adj_large_synonym.name())\n",
    "print('Definition:', adj_large_synonym.definition())\n",
    "print('Antonym:', adj_large_antonym.name())\n",
    "print('Definition:', adj_large_antonym.definition())\n",
    "print()"
   ]
  },
  {
   "cell_type": "markdown",
   "metadata": {},
   "source": [
    "# Hyponyms & Hypernyms\n",
    "Synsets represent terms with unique semantics and concepts and they are related to each other based on some similarity. Several of these synsets also represent abstract and generic concepts, besides concrete entities. Usually they are  interlinked in the form of a hierarchical structure representing “is-a” relationships. Hyponyms and hypernyms help us explore related concepts by navigating through this hierarchy. Hyponyms refer to entities or concepts that are a subclass of a higher order concept have very specific sense or context compared to their superclass."
   ]
  },
  {
   "cell_type": "code",
   "execution_count": 54,
   "metadata": {},
   "outputs": [
    {
     "name": "stdout",
     "output_type": "stream",
     "text": [
      "Name: tree.n.01\n",
      "Definition: a tall perennial woody plant having a main trunk and branches forming a distinct elevated crown; includes both gymnosperms and angiosperms\n"
     ]
    }
   ],
   "source": [
    "term = 'δέντρο'\n",
    "synsets = wn.synsets(term, lang='ell')\n",
    "tree = synsets[0]\n",
    "\n",
    "print('Name:', tree.name())\n",
    "print('Definition:', tree.definition())"
   ]
  }
 ],
 "metadata": {
  "kernelspec": {
   "display_name": "Python 3",
   "language": "python",
   "name": "python3"
  },
  "language_info": {
   "codemirror_mode": {
    "name": "ipython",
    "version": 3
   },
   "file_extension": ".py",
   "mimetype": "text/x-python",
   "name": "python",
   "nbconvert_exporter": "python",
   "pygments_lexer": "ipython3",
   "version": "3.7.6"
  }
 },
 "nbformat": 4,
 "nbformat_minor": 2
}
